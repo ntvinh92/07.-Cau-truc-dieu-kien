{
 "cells": [
  {
   "cell_type": "code",
   "execution_count": 1,
   "metadata": {},
   "outputs": [
    {
     "name": "stdout",
     "output_type": "stream",
     "text": [
      "Nhap 1 so n: 8\n",
      "Gia tri tuyet doi cua 8 la 8\n"
     ]
    }
   ],
   "source": [
    "# Bai 1: Gia tri tuyet doi cua n\n",
    "n = int(input('Nhap 1 so n: '))\n",
    "if n<0:\n",
    "    print(f'Gia tri tuyet doi cua {n} la {n*-1}')\n",
    "else:\n",
    "    print(f'Gia tri tuyet doi cua {n} la {n}')"
   ]
  },
  {
   "cell_type": "code",
   "execution_count": 15,
   "metadata": {},
   "outputs": [
    {
     "name": "stdout",
     "output_type": "stream",
     "text": [
      "Nhap a: 1\n",
      "Nhap b: 0\n",
      "x = 0.0\n"
     ]
    }
   ],
   "source": [
    "# Bai 2: Giai phuong trinh bac 1\n",
    "# ax + b = 0\n",
    "a = int(input('Nhap a: '))\n",
    "b = int(input('Nhap b: '))\n",
    "if a==0:\n",
    "    if b==0:\n",
    "        print('Vo so nghiem')\n",
    "    else:\n",
    "        print('Vo nghiem')\n",
    "else:\n",
    "    print(f'x = {-b/a}')"
   ]
  },
  {
   "cell_type": "code",
   "execution_count": 5,
   "metadata": {},
   "outputs": [
    {
     "name": "stdout",
     "output_type": "stream",
     "text": [
      "Nhap a: 2\n",
      "Nhap b: 3\n",
      "Nhap c: 4\n",
      "Phuong trinh vo nghiem\n"
     ]
    }
   ],
   "source": [
    "# Bai 3: Giai phuong trinh bac 2\n",
    "# ax^2 + bx + c = 0\n",
    "import math\n",
    "a = int(input('Nhap a: '))\n",
    "b = int(input('Nhap b: '))\n",
    "c = int(input('Nhap c: '))\n",
    "\n",
    "if a==0:\n",
    "    if b==0 and c==0:\n",
    "        print('Vo so nghiem')\n",
    "    elif b==0 and c!=0: \n",
    "        print('Vo nghiem')\n",
    "    else:\n",
    "        print('Day khong phai phuong trinh bac 2')\n",
    "else:\n",
    "    delta = b^2 - 4*a*c\n",
    "    if delta<0:\n",
    "        print('Phuong trinh vo nghiem')\n",
    "    elif delta==0:\n",
    "        print(f'x = {-b/(2*a)}')\n",
    "    else: \n",
    "        print(f'x1 = {-b + math.sqrt(delta)/(2*a)}')\n",
    "        print(f'x2 = {-b - math.sqrt(delta)/(2*a)}') "
   ]
  },
  {
   "cell_type": "code",
   "execution_count": 6,
   "metadata": {},
   "outputs": [
    {
     "name": "stdout",
     "output_type": "stream",
     "text": [
      "Nhap a: 4\n",
      "Nhap b: 7\n",
      "Nhap c: 6\n",
      "So lon nhat la 7\n"
     ]
    }
   ],
   "source": [
    "# Bai 4: Nhap 3 so a,b,c\n",
    "# Tim gia tri lon nhat\n",
    "a = int(input('Nhap a: '))\n",
    "b = int(input('Nhap b: '))\n",
    "c = int(input('Nhap c: '))\n",
    "\n",
    "if a>b and a>c:\n",
    "    print(f'So lon nhat la {a}')\n",
    "elif a>b and a<c:\n",
    "    print(f'So lon nhat la {c}')\n",
    "elif b<c: \n",
    "    print(f'So lon nhat la {c}')\n",
    "else:\n",
    "    print(f'So lon nhat la {b}')    "
   ]
  },
  {
   "cell_type": "code",
   "execution_count": null,
   "metadata": {},
   "outputs": [],
   "source": [
    "# Bai 5: Nhap vao so nguyen tu 1 den 5. \n",
    "# Xuat ra cach doc cac so do. Vi dụ: 1 xuat ra 'mot', 2 xuat ra 'hai'\n",
    "x = int(input(\"Nhap 1 so x la so nguyen tu 1 den 5: \"))\n",
    "\n",
    "if x==1:\n",
    "    print(\"Mot\")\n",
    "elif x==2:\n",
    "    print(\"Hai\")\n",
    "elif x==3:\n",
    "    print(\"Ba\")\n",
    "elif x==4:\n",
    "    print(\"Bon\")\n",
    "elif x==5:\n",
    "    print(\"Nam\")\n",
    "else:\n",
    "    print(\"Nhap so x sai so voi yeu cau de bai\")"
   ]
  },
  {
   "cell_type": "code",
   "execution_count": 9,
   "metadata": {},
   "outputs": [
    {
     "name": "stdout",
     "output_type": "stream",
     "text": [
      "Nhap 1 thang bat ky: 2\n",
      "Nhap 1 nam bat ky: 2100\n",
      "Thang 2 nam 2100 co 29 ngay\n"
     ]
    }
   ],
   "source": [
    "# Bai 6: Nhap vao thang va nam. Xuat ra so ngay trong thang va nam do.\n",
    "# Cac thang co 31 ngày: 1,3,5,7,8,10,12\n",
    "# Cac thang co 30 ngày: 4,6,9,11\n",
    "# Thang 2: nam nhuan (29 ngay), ko phai nam nhuan (28 ngay)\n",
    "thang_31 = (1,3,5,7,8,10,12)\n",
    "thang_30 = (4,6,9,11)\n",
    "thang = int(input(\"Nhap 1 thang bat ky: \"))\n",
    "nam = int(input(\"Nhap 1 nam bat ky: \"))\n",
    "\n",
    "if thang in thang_31:\n",
    "    print(f\"Thang {thang} nam {nam} co 31 ngay\")\n",
    "elif thang in thang_30:\n",
    "    print(f\"Thang {thang} nam {nam} co 30 ngay\")\n",
    "elif thang==2 and (nam%400==0 or nam%4==0):\n",
    "    print(f\"Thang {thang} nam {nam} co 29 ngay\")\n",
    "elif thang==2:\n",
    "    print(f\"Thang {thang} nam {nam} co 28 ngay\")  \n",
    "else:\n",
    "    print('Nhap sai thang,nam theo yeu cau')"
   ]
  },
  {
   "cell_type": "code",
   "execution_count": 1,
   "metadata": {},
   "outputs": [
    {
     "name": "stdout",
     "output_type": "stream",
     "text": [
      "Nhap 1 nam bat ky: 2022\n",
      "Nam 2022 khong phai la nam nhuan\n"
     ]
    }
   ],
   "source": [
    "# Bai 7: Nhap vao 1 nam.\n",
    "# Kiem tra nam do co phai nam nhuan hay khong. Xuat ra thong bao.\n",
    "nam = int(input(\"Nhap 1 nam bat ky: \"))\n",
    "\n",
    "if nam>0 and (nam%400==0 or nam%4==0):\n",
    "    print(f\"nam {nam} la nam nhuan\")\n",
    "elif nam>0:\n",
    "    print(f\"Nam {nam} khong phai la nam nhuan\")  \n",
    "else:\n",
    "    print('Nhap sai nam theo yeu cau')"
   ]
  },
  {
   "cell_type": "code",
   "execution_count": 10,
   "metadata": {},
   "outputs": [
    {
     "data": {
      "text/plain": [
       "5.25"
      ]
     },
     "execution_count": 10,
     "metadata": {},
     "output_type": "execute_result"
    }
   ],
   "source": [
    "2100/400"
   ]
  },
  {
   "cell_type": "code",
   "execution_count": null,
   "metadata": {},
   "outputs": [],
   "source": [
    "# Bai 8: Nhap vao ngay, thang, nam.\n",
    "# Kiem tra ngay, thang, nam do co hop le khong.\n",
    "thang_31 = (1,3,5,7,8,10,12)\n",
    "thang_30 = (4,6,9,11)\n",
    "ngay = int(input('Nhap 1 ngay bat ky: '))\n",
    "thang = int(input(\"Nhap 1 thang bat ky: \"))\n",
    "nam = int(input(\"Nhap 1 nam bat ky: \"))\n",
    "\n",
    "if (ngay<=0) or (thang<=0) or (nam<=0):\n",
    "    print (\"Khong hop le\")\n",
    "else:\n",
    "    if thang in thang_31:\n",
    "        if ngay>31:\n",
    "            print('Khong hop le')\n",
    "        else: \n",
    "            print('Hop le')\n",
    "    if thang in thang_30:\n",
    "        if ngay>30:\n",
    "            print('Khong hop le')\n",
    "        else: \n",
    "            print('Hop le')  \n",
    "    if thang==2 and (nam%400==0 or nam%4==0) and (ngay>29):\n",
    "        print('Khong hop le')\n",
    "    elif thang==2 and ngay>28:\n",
    "        print('Khong hop le')\n",
    "    else:\n",
    "        print('Hop le')"
   ]
  }
 ],
 "metadata": {
  "kernelspec": {
   "display_name": "Python 3",
   "language": "python",
   "name": "python3"
  },
  "language_info": {
   "codemirror_mode": {
    "name": "ipython",
    "version": 3
   },
   "file_extension": ".py",
   "mimetype": "text/x-python",
   "name": "python",
   "nbconvert_exporter": "python",
   "pygments_lexer": "ipython3",
   "version": "3.8.5"
  }
 },
 "nbformat": 4,
 "nbformat_minor": 4
}
