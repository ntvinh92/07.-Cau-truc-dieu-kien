{
 "cells": [
  {
   "cell_type": "code",
   "execution_count": null,
   "metadata": {},
   "outputs": [],
   "source": [
    "5. Nhập vào 1 chuỗi. Giả sử chuỗi đầu vào chỉ luôn gồm chữ cái và số\n",
    "Chuyển đổi các ký tự A, T, G và C thành U, A, C và G và xuất ra màn hình chuỗi mới.\n",
    "Ví dụ: GCGTAC -> CGCAUG, ATTAGCGCGATATACGCGTAC -> UAAUCGCGCUAUAUGCGCAUG\n",
    "CAGTATGCTGCAT -> GUCAUACGACGUA, CGATATA -> GCUAUAU, GCAGCTACA -> CGUCGAUGU\n",
    "6. Lấy số phút từ người dùng.\n",
    "Xuất ra theo dịnh dạng sau: hh:mm với hh là giờ với 2 chữ số, mm là phút với 2 chữ số.\n",
    "Nếu số giờ tính ra có 1 chữ số thì thêm số 0 ở trước. Tương tự với số phút.\n",
    "Nếu số giờ tính ra có nhiều hơn 2 chữ số thì xuất ra thông báo 'N/A'\n",
    "Ngoài ra, xuất ra thêm giá trị tổng các chữ số của giờ và phút.\n",
    "Ví dụ: \n",
    "Nhập 240 thì được định dạng 04:00 và giá trị tổng = 0 + 4 + 0 + 0 = 4.\n",
    "Nhập 251 thì 04:11 và giá trị tổng = 0 + 4 + 1 + 1 = 6\n",
    "Nhập 1000 thì 16:40 và giá trị tổng = 1 + 6 + 4 + 0 = 11\n",
    "Nhập 10000 thì 'N/A' và giá trị tổng = 'N/A'\n",
    "7. Nhập vào một chuỗi. Kiểm tra xem chuỗi có các từ 'không' và 'tệ'. \n",
    "Nếu chuỗi có từ 'không' nằm trước 'tệ' thì thay thế  nguyên cụm từ 'không...tệ' thành 'giỏi'. \n",
    "'...' ở đây có nghĩa giữa từ 'không' và 'tệ' có thể có các ký tự khác.\n",
    "Ví dụ: \"\"Tôi học không có tệ nha\"\" -> 'Tôi học giỏi nha'\n",
    "\"\"Tôi học không tệ nha\"\" -> 'Tôi học giỏi nha'\n",
    "\"\"Tôi học tệ thiệt đó nha\"\" -> 'Tôi học tệ thiệt đó nha'\n",
    "8. Nhập vào 1 chuỗi, và 1 số n. Xóa ký tự thứ n trong chuỗi tính từ đầu chuỗi và xuất trả về chuỗi mới.\n",
    "Nếu n lớn hơn tổng số ký tự có trong chuỗi thì xuất thông báo 'Không tìm thấy vị trí cần xóa'.\n",
    "Ngược lại xuất ra chuỗi mới. \n",
    "9. Nhập vào một số nguyên bất kỳ. Kiểm tra xem số này khi đọc ngược và xuôi có giống nhau không. \n",
    "Xuất ra có hoặc không. Số âm thì luôn là không.\n",
    "Ví dụ: 8, 88, 898, 894498 -> có\n",
    "100, 123, 45 -> không\""
   ]
  },
  {
   "cell_type": "code",
   "execution_count": null,
   "metadata": {},
   "outputs": [],
   "source": [
    "# 1. Cho 2 biến bất kỳ a và b. 2 biến này fix cố định, không phải lấy từ người dùng nhập vào.\n",
    "# Thay đổi 2 biến này để cho ra các kết quả khác nhau.\n",
    "# Xử lý 2 biến này với quy tắc \n",
    "# - Nếu 2 biến này là chuỗi thì cộng chúng lại. \n",
    "# - Nếu 2 biến này là số nguyên thì nối chúng như chuỗi.\n",
    "# - Xuất ra kết quả 2 trường hợp trên, ngược lại xuất ra 'Dau vao khong hop le'\n",
    "# Ví dụ: \n",
    "# a = 5, b = 5 -> '55'\n",
    "# a = '5', b = '5' -> 10\n",
    "# a = '5', b = 5 -> 'Dau vao khong hop le'\n",
    "# a=5\n",
    "# b='5'\n",
    "# if isinstance(a, str) and isinstance(a, str):\n",
    "#     print(f'{int(a) + int(b)}')\n",
    "# elif (isinstance(a, str) and isinstance(b, str)==False) or (isinstance(a, str)==False and isinstance(b, str)):\n",
    "#     print('Dau vao khong hop le')\n",
    "# else:\n",
    "#     print(f'{a}{b}')"
   ]
  },
  {
   "cell_type": "code",
   "execution_count": null,
   "metadata": {},
   "outputs": [],
   "source": [
    "a = int(input('Nhap so a: '))\n",
    "b = int(input('Nhap so b: '))\n",
    "tinhtoan = input('Nhap phep tinh: ')\n",
    "\n",
    "if tinhtoan==\"cong\":\n",
    "    print(a+b)\n",
    "elif tinhtoan==\"tru\":\n",
    "    print(a-b)\n",
    "elif tinhtoan==\"nhan\":\n",
    "    print(a*b)\n",
    "elif tinhtoan==\"chia\":\n",
    "    print(a/b)\n",
    "else:\n",
    "    print(\"Nhap sai dau vao\")"
   ]
  },
  {
   "cell_type": "code",
   "execution_count": null,
   "metadata": {},
   "outputs": [],
   "source": [
    "# 3. Nhập vào 2 chuỗi và một số n. \n",
    "# Hoán đổi n ký tự đầu của 2 chuỗi với nhau và xuất ra 2 chuỗi mới. \n",
    "# Ví dụ: 2 chuỗi 'abcd', 'efgh' và n = 2 -> kết quả: 'efcd' và 'abgh' \n",
    "chuoi1 = input('Nhap chuoi 1: ')\n",
    "chuoi2 = input('Nhap chuoi 2: ')\n",
    "n = int(input('Nhap 1 so n bat ky: '))\n",
    "\n",
    "if n<=0:\n",
    "    print('Phai nhap n>0')\n",
    "else:\n",
    "    chuoi1_nt = chuoi1[:n]\n",
    "    #chuoi1_ns = chuoi1[-(len(chuoi1)-n):]\n",
    "    chuoi1_ns = chuoi1[n:]\n",
    "    chuoi2_nt = chuoi2[:n]\n",
    "    #chuoi2_ns = chuoi2[-(len(chuoi2)-n):]\n",
    "    chuoi2_ns = chuoi2[n:]\n",
    "    print(chuoi1_nt+chuoi2_ns, \"va\", chuoi2_nt+chuoi1_ns)"
   ]
  },
  {
   "cell_type": "code",
   "execution_count": null,
   "metadata": {},
   "outputs": [],
   "source": [
    "# 4. Nhập vào một chuỗi. Nếu chuỗi nhỏ hơn 3 ký tự thì giữ nguyên chuỗi.\n",
    "# Lớn hơn hoặc bằng 3 ký tự thì thêm 'ing' vào cuối chuỗi nếu chuỗi đó chưa có 'ing' ở cuối.\n",
    "# Trường hợp đã có 'ing' rồi thì thay thế  'ing' bằng 'ly'. \n",
    "# Xuất ra kết quả.\n",
    "# Ví dụ:\n",
    "# 'str' -> 'string'\n",
    "# 'string' -> 'strly'\n",
    "# 'st' -> 'st'\n",
    "chuoi = input('Nhap chuoi bat ky: ')\n",
    "if len(chuoi)<3:\n",
    "    print(chuoi)\n",
    "elif chuoi[-3:]==\"ing\":\n",
    "    print(chuoi[:-3]+\"ly\")\n",
    "else:\n",
    "    print(chuoi+\"ing\")"
   ]
  },
  {
   "cell_type": "code",
   "execution_count": null,
   "metadata": {},
   "outputs": [],
   "source": [
    "# 5. Nhập vào 1 chuỗi. \n",
    "# Giả sử chuỗi đầu vào chỉ luôn gồm chữ cái và số\n",
    "# Chuyển đổi các ký tự A, T, G và C thành U, A, C và G và xuất ra màn hình chuỗi mới.\n",
    "# Ví dụ: GCGTAC -> CGCAUG, ATTAGCGCGATATACGCGTAC -> UAAUCGCGCUAUAUGCGCAUG\n",
    "# CAGTATGCTGCAT -> GUCAUACGACGUA, CGATATA -> GCUAUAU, GCAGCTACA -> CGUCGAUGU\n",
    "\n",
    "chuoi = input('Nhap chuoi bat ky: ')\n",
    "chuoi.replace('A','T')\n",
    "print(chuoi)"
   ]
  },
  {
   "cell_type": "code",
   "execution_count": null,
   "metadata": {},
   "outputs": [],
   "source": [
    "chuoi = input('Nhap chuoi bat ky: ')\n",
    "chuoi.replace('A','T')\n",
    "print(chuoi)"
   ]
  },
  {
   "cell_type": "code",
   "execution_count": null,
   "metadata": {},
   "outputs": [],
   "source": []
  }
 ],
 "metadata": {
  "kernelspec": {
   "display_name": "Python 3",
   "language": "python",
   "name": "python3"
  },
  "language_info": {
   "codemirror_mode": {
    "name": "ipython",
    "version": 3
   },
   "file_extension": ".py",
   "mimetype": "text/x-python",
   "name": "python",
   "nbconvert_exporter": "python",
   "pygments_lexer": "ipython3",
   "version": "3.8.5"
  }
 },
 "nbformat": 4,
 "nbformat_minor": 4
}
