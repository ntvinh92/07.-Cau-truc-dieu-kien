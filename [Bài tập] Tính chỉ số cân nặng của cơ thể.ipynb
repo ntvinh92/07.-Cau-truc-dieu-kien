{
 "cells": [
  {
   "cell_type": "code",
   "execution_count": null,
   "metadata": {},
   "outputs": [],
   "source": [
    "ChieuCao = float(input(\"Nhập chiều cao của bạn(m): \"))\n",
    "CanNang = float(input(\"Nhập cân nặng của bạn (kg): \"))\n",
    "\n",
    "bmi = CanNang/(ChieuCao*ChieuCao)\n",
    "if bmi>=40:\n",
    "    print('Béo phì cấp độ III')\n",
    "elif bmi>=35:\n",
    "    print(\"Béo phì cấp độ II\")\n",
    "elif bmi>=30:\n",
    "    print(\"Béo phí cấp độ I\")\n",
    "elif bmi>=25:\n",
    "    print(\"Thừa cân\")\n",
    "elif bmi>=18.5:\n",
    "    print(\"Bình thường\")\n",
    "elif bmi>=17:\n",
    "    print(\"Gầy cấp độ I\")\n",
    "elif bmi>=16:\n",
    "    print(\"Gầy cấp độ II\")\n",
    "elif bmi>0:\n",
    "    print(\"Gầy cấp độ III\")\n",
    "else:\n",
    "    print(\"Nhập lại số liệu chiều cao và cân nặng\")"
   ]
  }
 ],
 "metadata": {
  "kernelspec": {
   "display_name": "Python 3",
   "language": "python",
   "name": "python3"
  },
  "language_info": {
   "codemirror_mode": {
    "name": "ipython",
    "version": 3
   },
   "file_extension": ".py",
   "mimetype": "text/x-python",
   "name": "python",
   "nbconvert_exporter": "python",
   "pygments_lexer": "ipython3",
   "version": "3.8.5"
  }
 },
 "nbformat": 4,
 "nbformat_minor": 4
}
